{
 "cells": [
  {
   "cell_type": "code",
   "execution_count": 24,
   "metadata": {
    "collapsed": false
   },
   "outputs": [],
   "source": [
    "#! /usr/bin/python2.7\n",
    "# -*- coding: utf-8 -*-\n",
    "\n",
    "from keras.datasets import imdb\n",
    "import numpy as np\n",
    "from matplotlib import pyplot as plt\n",
    "from keras.models import Sequential\n",
    "from keras.layers import Dense, Activation\n",
    "\n",
    "import tarfile as tar"
   ]
  },
  {
   "cell_type": "code",
   "execution_count": 36,
   "metadata": {
    "collapsed": false
   },
   "outputs": [],
   "source": [
    "# Classe à implémenter à la fin\n",
    "class Parse:\n",
    "    def __init__(self): pass\n",
    "        \n",
    "# Donne des infos sur le contenu du fichier .tar\n",
    "def infoTar(t):\n",
    "    for finfo in t.getmembers():\n",
    "        print('%s a une taille de %d octets' % (finfo.name, finfo.size), '')\n",
    "        if finfo.isdir():\n",
    "            print(' et est un répertoire')\n",
    "        elif finfo.isfile():\n",
    "            print(' et est un fichier normal')\n",
    "\n",
    "# Extrait le fichier du tar et le place dans des            \n",
    "def extractFile(t, src, dest):\n",
    "    extr = t.extractfile(src)\n",
    "    fichier = open(dest,'wb')\n",
    "    fichier.write(extr.read())\n",
    "    fichier.close()    \n",
    "    extr.close()    \n",
    "\n",
    "def describ():\n",
    "    print ( \"Parsing ...\\nExtracting data ...\")\n",
    "    print ( \"Fichier : %s\" % fname)\n",
    "    print ( \"I - Taille\")\n",
    "    print ( \"\\tNombre de phrases : %d\" % nb_phrases)\n",
    "    print ( \"\\tNombre d'exemples d'aprentissages : %d\" % nb_exemples)\n",
    "    print (\"\\tNombre de caracteres moyen par phrases : %d\" % nb_caractere_moyen)\n",
    "    print (\"II - Vocabulaire\")\n",
    "    print (\"\\tNombre de caractere dictincts totals : %d\" % nb_caractere_distinc) \n",
    "    print (\"\\tNombre de mots dictincts totals : %d\" % nb_mot_disctinc) \n",
    "    \n",
    "def parser(name):\n",
    "    fichier = open(name,'r')\n",
    "    tmp = {}\n",
    "    exemple = []\n",
    "    i = 0\n",
    "    k = 0    \n",
    "    for line in fichier:  \n",
    "        exemple.append(line)\n",
    "        i+=1\n",
    "        if \"?\" in line:\n",
    "            tmp[k] = []\n",
    "            for e in exemple:\n",
    "                tmp[k].append(e)\n",
    "            k+=1\n",
    "    return tmp,i,k\n",
    "    \n",
    "# def classer(): pass\n",
    "def compterCaractere(data):\n",
    "    nb_char = 0\n",
    "    nb_mot = 0\n",
    "    nb_char_moy = []\n",
    "    nb_mot_moyen = []    \n",
    "    list_car = []\n",
    "    list_mot = []\n",
    "    for key in data:\n",
    "        for liste in data[key]:\n",
    "            for mot in liste.split(\" \"):\n",
    "                nb_mot += 1\n",
    "                if mot not in list_mot:\n",
    "                    list_mot.append(mot)\n",
    "                nb_mot_moyen.append(nb_mot)      \n",
    "                nb_mot = 0\n",
    "            for c in liste:\n",
    "                if c != '\\n':\n",
    "                    nb_char += 1\n",
    "                if c not in list_car:\n",
    "                    list_car.append(c)\n",
    "            nb_char_moy.append(nb_char)\n",
    "            nb_char = 0\n",
    "    for e in nb_char_moy:\n",
    "        nb_char += e\n",
    "    return len(list_car), nb_char/len(nb_char_moy), len(list_mot), list_mot\n",
    "\n",
    "def compareVoc(a,b):\n",
    "    Sa = set(a)\n",
    "    Sb = set(b)\n",
    "    \n",
    "    Sa_b = Sa ^ Sb\n",
    "    print(len(Sa),len(Sb))\n",
    "    print(Sa_b)\n",
    "    \n",
    "        \n",
    "bAbitask = tar.open('tasks_1-20_v1-2.tar.gz', 'r')\n",
    "fname = \"trainset.txt\"\n",
    "\n",
    "dataTrain = {}\n",
    "dataTest = {}\n",
    "nb_phrases = 0\n",
    "nb_exemples = 0\n",
    "nb_caractere_distinc = 0\n",
    "nb_caractere_moyen = 0\n",
    "nb_mot_disctinc = 0"
   ]
  },
  {
   "cell_type": "code",
   "execution_count": 37,
   "metadata": {
    "collapsed": false
   },
   "outputs": [
    {
     "name": "stdout",
     "output_type": "stream",
     "text": [
      "Supporting Facts - Task 1\n",
      "Parsing ...\n",
      "Extracting data ...\n",
      "Fichier : trainset.txt\n",
      "I - Taille\n",
      "\tNombre de phrases : 3000\n",
      "\tNombre d'exemples d'aprentissages : 1000\n",
      "\tNombre de caracteres moyen par phrases : 30\n",
      "II - Vocabulaire\n",
      "\tNombre de caractere dictincts totals : 42\n",
      "\tNombre de mots dictincts totals : 98\n",
      "Parsing ...\n",
      "Extracting data ...\n",
      "Fichier : testset.txt\n",
      "I - Taille\n",
      "\tNombre de phrases : 3000\n",
      "\tNombre d'exemples d'aprentissages : 1000\n",
      "\tNombre de caracteres moyen par phrases : 30\n",
      "II - Vocabulaire\n",
      "\tNombre de caractere dictincts totals : 42\n",
      "\tNombre de mots dictincts totals : 98\n"
     ]
    }
   ],
   "source": [
    "print(\"Supporting Facts - Task 1\")\n",
    "extractFile(bAbitask, \"tasks_1-20_v1-2/en/qa1_single-supporting-fact_train.txt\", fname)\n",
    "dataTrain,nb_phrases,nb_exemples = parser(fname)\n",
    "nb_caractere_distinc,nb_caractere_moyen,nb_mot_disctinc,vocab_train = compterCaractere(dataTrain)\n",
    "describ()\n",
    "\n",
    "fname = \"testset.txt\"\n",
    "\n",
    "extractFile(bAbitask, \"tasks_1-20_v1-2/en/qa1_single-supporting-fact_test.txt\", fname)\n",
    "dataTest,nb_phrases,nb_exemples = parser(fname)\n",
    "nb_caractere_distinc,nb_caractere_moyen,nb_mot_disctinc,vocab_test = compterCaractere(dataTest)\n",
    "describ()\n"
   ]
  },
  {
   "cell_type": "code",
   "execution_count": 34,
   "metadata": {
    "collapsed": false
   },
   "outputs": [
    {
     "name": "stdout",
     "output_type": "stream",
     "text": [
      "(98, 98)\n",
      "set([])\n"
     ]
    }
   ],
   "source": [
    "compareVoc(vocab_train,vocab_test)\n",
    "bAbitask.close()"
   ]
  },
  {
   "cell_type": "code",
   "execution_count": 35,
   "metadata": {
    "collapsed": false
   },
   "outputs": [],
   "source": [
    "\n",
    "# Exemple d'utilisation des sets\n",
    "# engineers = set(['John', 'Jane', 'Jack', 'Janice'])\n",
    "# programmers = set(['Jack', 'Sam', 'Susan', 'Janice'])\n",
    "# managers = set(['Jane', 'Jack', 'Susan', 'Zack'])\n",
    "# employees = engineers | programmers | managers\n",
    "# print(employees)                                                      # union\n",
    "# engineering_management = engineers & managers\n",
    "# print(engineering_management)                                         # intersection\n",
    "# fulltime_management = managers - engineers - programmers\n",
    "# print(fulltime_management)                                            # difference"
   ]
  },
  {
   "cell_type": "code",
   "execution_count": null,
   "metadata": {
    "collapsed": true
   },
   "outputs": [],
   "source": []
  }
 ],
 "metadata": {
  "kernelspec": {
   "display_name": "Python 3",
   "language": "python",
   "name": "python3"
  },
  "language_info": {
   "codemirror_mode": {
    "name": "ipython",
    "version": 3
   },
   "file_extension": ".py",
   "mimetype": "text/x-python",
   "name": "python",
   "nbconvert_exporter": "python",
   "pygments_lexer": "ipython3",
   "version": "3.6.0"
  }
 },
 "nbformat": 4,
 "nbformat_minor": 0
}
