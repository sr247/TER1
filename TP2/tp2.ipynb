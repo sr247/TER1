{
 "cells": [
  {
   "cell_type": "markdown",
   "metadata": {},
   "source": [
    "Dans ce TP, nous allons utiliser le module *keras*, afin d'apprendre un modèle de régression logistique puis un réseau de neurones simple. \n",
    "\n",
    "La page décrivant le module keras est ici : https://keras.io/. Ce module est dédié à l'apprentissage et l'inférence avec des réseaux de neurones, dont la régression logistique en est le plus simple exemple. \n",
    "\n",
    "Commençons par les imports et le chargement des données. "
   ]
  },
  {
   "cell_type": "code",
   "execution_count": 64,
   "metadata": {
    "collapsed": false
   },
   "outputs": [],
   "source": [
    "from keras.datasets import imdb\n",
    "import numpy as np\n",
    "from matplotlib import pyplot as plt\n",
    "from keras.models import Sequential\n",
    "from keras.layers import Dense, Activation\n",
    "\n",
    "start_index=3 \n",
    "vocab_size=10000 # or None for everything\n",
    "(X_train, y_train), (X_test, y_test) = imdb.load_data(path=\"imdb_full.pkl\",\n",
    "                                                      nb_words=vocab_size,\n",
    "                                                      skip_top=0,\n",
    "                                                      maxlen=None,\n",
    "                                                      seed=113,\n",
    "                                                      start_char=1,\n",
    "                                                      oov_char=3,\n",
    "                                                      index_from=start_index)"
   ]
  },
  {
   "cell_type": "markdown",
   "metadata": {},
   "source": [
    "**Notons un changement** par rapport au TP précédent: la variable *oov_char=3* est désormais fixée à 3. Cela nous simplifiera certaines manipulation. \n",
    "\n",
    "\n",
    "Les données d'entrée (l'ensemble des documents à classer) sont représentées par une matrice numpy regroupant tous les vecteurs (un vecteur par texte à classer). Pour transformer les données dans ce format, nous allons reprendre le code du TP précédent. \n",
    "\n",
    "# Les données / mise en forme\n",
    "\n",
    "Par exemple pour représenter les textes comme des sacs d'attributs binaires: "
   ]
  },
  {
   "cell_type": "code",
   "execution_count": 65,
   "metadata": {
    "collapsed": false
   },
   "outputs": [],
   "source": [
    "def sent2binaryVector (sentence): \n",
    "    v = np.zeros([vocab_size])\n",
    "    for i in range(1,len(sentence)):\n",
    "        v[sentence[i]-start_index]=1 \n",
    "    return v\n",
    "\n",
    "\n",
    "\n",
    "def convertCorpus2binary(corpus):\n",
    "    M = np.zeros([len(corpus),vocab_size])\n",
    "    i=0\n",
    "    for x in corpus:\n",
    "        v = sent2binaryVector(x)\n",
    "        M[i,:] = v\n",
    "        i+=1\n",
    "    return M\n",
    "\n",
    "train = convertCorpus2binary(X_train)\n",
    "test = convertCorpus2binary(X_test)"
   ]
  },
  {
   "cell_type": "code",
   "execution_count": 66,
   "metadata": {
    "collapsed": false
   },
   "outputs": [
    {
     "name": "stdout",
     "output_type": "stream",
     "text": [
      "25000   (25000, 10000)\n",
      "<type 'numpy.ndarray'>   (10000,)\n"
     ]
    }
   ],
   "source": [
    "print len(train), \" \", train.shape\n",
    "print type(train[0]), \" \", train[0].shape"
   ]
  },
  {
   "cell_type": "markdown",
   "metadata": {},
   "source": [
    "# Le modèle Sequential\n",
    "\n",
    "Pour construire un modèle en keras, il est nécessaire de comprendre la classe **Sequential**. Cette classe représente un réseau de neurones comme une liste de couche (layers) que l'on empile dans un certain ordre. Pour ajouter un layer, il suffit d'appeler la méthode *add* en spécifiant le layer à ajouter et ses propriétés. \n",
    "\n",
    "Un modèle de régression logistique simple comporte en fait une matrice permettant de lier le vecteur d'entrée à la valeur de sortie. Cette matrice a donc comme dimension d'entrée la taille du vecteur d'entrée et comme dimension de sortie 1, qui est la probabilité de la classe positive. "
   ]
  },
  {
   "cell_type": "code",
   "execution_count": 79,
   "metadata": {
    "collapsed": true
   },
   "outputs": [],
   "source": [
    "model = Sequential()\n",
    "model.add(Dense(output_dim=1, input_dim=vocab_size))\n",
    "model.add(Activation('sigmoid'))"
   ]
  },
  {
   "cell_type": "markdown",
   "metadata": {},
   "source": [
    "Ce code créer un modèle, y ajoute une couche neuronale (une matrice) puis une fonction d'activation (ici sigmoid). \n",
    "Une fois le modèle créer, il faut le compiler: \n"
   ]
  },
  {
   "cell_type": "code",
   "execution_count": 80,
   "metadata": {
    "collapsed": true
   },
   "outputs": [],
   "source": [
    "model.compile(optimizer='sgd',\n",
    "              loss='binary_crossentropy',\n",
    "              metrics=['accuracy'])"
   ]
  },
  {
   "cell_type": "markdown",
   "metadata": {},
   "source": [
    "Lors de la compilation, on doit préciser au mois trois choses: \n",
    "- l'algorithme d'apprentissage (optimizer) : ici sgd signifie \"Stochastic Gradient Descent\"\n",
    "- la fonction objectif à optimiser :  *binary_crossentropy* est un autre nom pour la vraisemblance des données d'apprentissage\n",
    "- metrics : spécifie un liste de métriques d'évaluation. Ici il n'y en a qu'une qui le taux de classification correcte.\n",
    "\n",
    "On peut obtenir un résumé du modèle : "
   ]
  },
  {
   "cell_type": "code",
   "execution_count": 81,
   "metadata": {
    "collapsed": false
   },
   "outputs": [
    {
     "name": "stdout",
     "output_type": "stream",
     "text": [
      "____________________________________________________________________________________________________\n",
      "Layer (type)                     Output Shape          Param #     Connected to                     \n",
      "====================================================================================================\n",
      "dense_5 (Dense)                  (None, 1)             10001       dense_input_5[0][0]              \n",
      "____________________________________________________________________________________________________\n",
      "activation_5 (Activation)        (None, 1)             0           dense_5[0][0]                    \n",
      "====================================================================================================\n",
      "Total params: 10,001\n",
      "Trainable params: 10,001\n",
      "Non-trainable params: 0\n",
      "____________________________________________________________________________________________________\n"
     ]
    }
   ],
   "source": [
    "model.summary()"
   ]
  },
  {
   "cell_type": "markdown",
   "metadata": {},
   "source": [
    "Reste l'apprentissage. Pour cela il existe, par exemple, une fonction qui permet de spécifier :\n",
    "- les données d'apprentissage: train (les entrées)et y_train (les sorties)\n",
    "- le nombre d'époques maximum\n",
    "- et des données de validation sur lesquels on va mesurer les performances: test, y_test\n",
    "- la taille du mini-batch qui permet d'accélerer le calcul\n"
   ]
  },
  {
   "cell_type": "code",
   "execution_count": 82,
   "metadata": {
    "collapsed": false
   },
   "outputs": [
    {
     "data": {
      "text/plain": [
       "'\\nhistory = model.fit(train, y_train,\\n        nb_epoch=5,\\n        batch_size=256,\\n        validation_data=(test, y_test))\\n'"
      ]
     },
     "execution_count": 82,
     "metadata": {},
     "output_type": "execute_result"
    }
   ],
   "source": [
    "\"\"\"\n",
    "history = model.fit(train, y_train,\n",
    "        nb_epoch=5,\n",
    "        batch_size=256,\n",
    "        validation_data=(test, y_test))\n",
    "\"\"\""
   ]
  },
  {
   "cell_type": "markdown",
   "metadata": {},
   "source": [
    "L'apprentissage peut prendre un certain temps, selon le nombre d'époque souhaité. Il est ici fixé à 3. Cette fonction, en plus de son affichage, retourne un objet *history* qui stocke des informations liées à l'apprentissage. \n",
    "- quel est le type de cet objet ? \n",
    "- qu'y trouve-t-on  ? \n",
    "\n",
    "Modifier ce code afin de lancer plus d'époques d'apprentissage et tracer à l'aide de matplotlib l'évolution du taux de réussite mesuré sur le train puis sur le test. \n",
    "\n",
    "Faites varier la taille du mini-batch (essayer 128 par exemple) et regarder l'impact. "
   ]
  },
  {
   "cell_type": "code",
   "execution_count": 83,
   "metadata": {
    "collapsed": false
   },
   "outputs": [
    {
     "name": "stdout",
     "output_type": "stream",
     "text": [
      "<class 'keras.callbacks.History'>\n",
      "Train on 25000 samples, validate on 25000 samples\n",
      "Epoch 1/10\n",
      "25000/25000 [==============================] - 2s - loss: 0.6543 - acc: 0.6701 - val_loss: 0.6184 - val_acc: 0.7623\n",
      "Epoch 2/10\n",
      "25000/25000 [==============================] - 2s - loss: 0.5875 - acc: 0.7882 - val_loss: 0.5679 - val_acc: 0.7949\n",
      "Epoch 3/10\n",
      "25000/25000 [==============================] - 2s - loss: 0.5433 - acc: 0.8095 - val_loss: 0.5322 - val_acc: 0.8078\n",
      "Epoch 4/10\n",
      "25000/25000 [==============================] - 2s - loss: 0.5116 - acc: 0.8225 - val_loss: 0.5059 - val_acc: 0.8146\n",
      "Epoch 5/10\n",
      "25000/25000 [==============================] - 2s - loss: 0.4873 - acc: 0.8301 - val_loss: 0.4853 - val_acc: 0.8222\n",
      "Epoch 6/10\n",
      "25000/25000 [==============================] - 2s - loss: 0.4680 - acc: 0.8352 - val_loss: 0.4689 - val_acc: 0.8267\n",
      "Epoch 7/10\n",
      "25000/25000 [==============================] - 2s - loss: 0.4524 - acc: 0.8405 - val_loss: 0.4554 - val_acc: 0.8312\n",
      "Epoch 8/10\n",
      "25000/25000 [==============================] - 2s - loss: 0.4392 - acc: 0.8443 - val_loss: 0.4439 - val_acc: 0.8351\n",
      "Epoch 9/10\n",
      "25000/25000 [==============================] - 2s - loss: 0.4279 - acc: 0.8477 - val_loss: 0.4342 - val_acc: 0.8382\n",
      "Epoch 10/10\n",
      "25000/25000 [==============================] - 2s - loss: 0.4181 - acc: 0.8502 - val_loss: 0.4258 - val_acc: 0.8398\n",
      "{'verbose': 1, 'nb_epoch': 10, 'batch_size': 128, 'metrics': ['loss', 'acc', 'val_loss', 'val_acc'], 'nb_sample': 25000, 'do_validation': True}\n",
      "[0, 1, 2, 3, 4, 5, 6, 7, 8, 9]\n",
      "[0.67011999998092653, 0.78820000001907353, 0.80952000003814695, 0.82252000000000003, 0.83008000000000004, 0.83520000003814698, 0.84048000003814693, 0.84431999996185303, 0.84771999996185299, 0.85019999996185303]\n"
     ]
    },
    {
     "data": {
      "image/png": "[encoded data removed]",
      "text/plain": [
       "<matplotlib.figure.Figure at 0x7fa7ccdc40d0>"
      ]
     },
     "metadata": {},
     "output_type": "display_data"
    }
   ],
   "source": [
    "print type(history)\n",
    "\n",
    "history = model.fit(train, y_train,\n",
    "        nb_epoch=10,\n",
    "        batch_size=128,\n",
    "        validation_data=(test, y_test))\n",
    "\n",
    "print history.params\n",
    "print history.epoch\n",
    "print history.history[\"acc\"]\n",
    "\n",
    "\n",
    "x = history.epoch\n",
    "y = history.history[\"acc\"]\n",
    "y_prime = history.history['val_acc']\n",
    "\n",
    "plt.plot(x,y)\n",
    "plt.plot(x,y_prime)\n",
    "plt.show()\n",
    "\n"
   ]
  },
  {
   "cell_type": "markdown",
   "metadata": {},
   "source": [
    "# Introspection du modèle \n",
    "\n",
    "Regardons les valeurs des paramètres appris. Pour cela, cherchez dans la documentation comment accéder au poids du modèles. \n",
    "\n",
    "Afficher les 20 mots ayant les poids associés les plus grands et les 10 mots ayant les poids associés les plus petits. Commenter, expliquer. "
   ]
  },
  {
   "cell_type": "code",
   "execution_count": 86,
   "metadata": {
    "collapsed": false
   },
   "outputs": [
    {
     "name": "stdout",
     "output_type": "stream",
     "text": [
      "{'verbose': 1, 'nb_epoch': 10, 'batch_size': 128, 'metrics': ['loss', 'acc', 'val_loss', 'val_acc'], 'nb_sample': 25000, 'do_validation': True}\n",
      "[array([[ 0.01035638],\n",
      "       [ 0.02318333],\n",
      "       [ 0.05852779],\n",
      "       ..., \n",
      "       [-0.01948185],\n",
      "       [ 0.02353169],\n",
      "       [ 0.00179834]], dtype=float32), array([ 0.03926616], dtype=float32)]\n"
     ]
    }
   ],
   "source": [
    "print history.params\n",
    "# argsort\n",
    "\n",
    "print model.get_weights()\n",
    "# Retourne W le vecteur de poids\n",
    "# et w0 le biais\n"
   ]
  },
  {
   "cell_type": "markdown",
   "metadata": {},
   "source": [
    "# Représentation de mots\n",
    "\n",
    "Nous allons maintenant construire un nouveau modèle en introduisant une couche cachée représentant les mots dans un espace de grande dimension. \n",
    "\n",
    "- Construire un modèle avec un espace de représentation des mots de taille 10. Lancer l'apprentissage. \n",
    "- Faites varier la taille de cette couche cachée (10,25,50,100) et comparer les performances avec un nombre d'époque d'au moins 10. "
   ]
  },
  {
   "cell_type": "code",
   "execution_count": null,
   "metadata": {
    "collapsed": true
   },
   "outputs": [],
   "source": []
  }
 ],
 "metadata": {
  "anaconda-cloud": {},
  "kernelspec": {
   "display_name": "Python 2",
   "language": "python",
   "name": "python2"
  },
  "language_info": {
   "codemirror_mode": {
    "name": "ipython",
    "version": 2
   },
   "file_extension": ".py",
   "mimetype": "text/x-python",
   "name": "python",
   "nbconvert_exporter": "python",
   "pygments_lexer": "ipython2",
   "version": "2.7.12"
  }
 },
 "nbformat": 4,
 "nbformat_minor": 0
}
