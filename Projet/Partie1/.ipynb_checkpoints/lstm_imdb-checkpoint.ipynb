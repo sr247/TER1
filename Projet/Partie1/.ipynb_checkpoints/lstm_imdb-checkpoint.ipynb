{
 "cells": [
  {
   "cell_type": "markdown",
   "metadata": {
    "collapsed": false
   },
   "source": [
    "Quelle est la taille du vocabulaire (en nombre de mots) ?\n",
    "    On aura besoin de environ 150 mots car certains mots ne sont pas utilisé dans le processus du raisonnement du réseau de neurone\n",
    "    \n",
    "Est-il possible de le réduire à une taille acceptable ? par exemple en excluant les mots dont la fréquence est en dessous d'un certain seuil.\n",
    "    Oui il est possible de réduire la taille du vocabulaire. Certains mots comme les auxilliaires \n",
    "    \n",
    "Quel est le nombre de caractères ?\n",
    "    Dans le cas des corpus en anglais il y a  :\n",
    "    26 * 2 + 10 + espace + tabulation + point + virgule + point d'interrogation + eof\n",
    "    \n",
    "Quelle est le nombre de phrase (ou de document) à traiter pour l'apprentissage et pour le test\n",
    "    Il y a au total 100 000 exemple : 60 000 d'apprentissage et 40 000 de test. \n",
    "\n",
    "Quelle est la distribution de longueurs de phrases ?\n",
    "    Les phrases auront en moyennes 4 à 5 mots.\n",
    "       \n"
   ]
  }
 ],
 "metadata": {
  "anaconda-cloud": {},
  "kernelspec": {
   "display_name": "Python 2",
   "language": "python",
   "name": "python2"
  },
  "language_info": {
   "codemirror_mode": {
    "name": "ipython",
    "version": 2
   },
   "file_extension": ".py",
   "mimetype": "text/x-python",
   "name": "python",
   "nbconvert_exporter": "python",
   "pygments_lexer": "ipython2",
   "version": "2.7.12"
  }
 },
 "nbformat": 4,
 "nbformat_minor": 0
}
