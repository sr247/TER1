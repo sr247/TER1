{
 "cells": [
  {
   "cell_type": "code",
   "execution_count": 2,
   "metadata": {
    "collapsed": false
   },
   "outputs": [
    {
     "name": "stderr",
     "output_type": "stream",
     "text": [
      "Using Theano backend.\n"
     ]
    }
   ],
   "source": [
    "from keras.datasets import imdb\n",
    "import numpy as np\n",
    "from matplotlib import pyplot as plt\n",
    "from keras.models import Sequential\n",
    "from keras.layers import Dense, Activation\n",
    "\n",
    "import tarfile as tar"
   ]
  },
  {
   "cell_type": "code",
   "execution_count": 46,
   "metadata": {
    "collapsed": false
   },
   "outputs": [
    {
     "ename": "TypeError",
     "evalue": "'int' object is not iterable",
     "output_type": "error",
     "traceback": [
      "\u001b[0;31m---------------------------------------------------------------------------\u001b[0m",
      "\u001b[0;31mTypeError\u001b[0m                                 Traceback (most recent call last)",
      "\u001b[0;32m<ipython-input-46-88080a03f69b>\u001b[0m in \u001b[0;36m<module>\u001b[0;34m()\u001b[0m\n\u001b[1;32m     77\u001b[0m \u001b[0;34m\u001b[0m\u001b[0m\n\u001b[1;32m     78\u001b[0m \u001b[0mdata\u001b[0m\u001b[0;34m,\u001b[0m\u001b[0mnb_phrases\u001b[0m\u001b[0;34m,\u001b[0m\u001b[0mnb_exemples\u001b[0m \u001b[0;34m=\u001b[0m \u001b[0mparser\u001b[0m\u001b[0;34m(\u001b[0m\u001b[0mfname\u001b[0m\u001b[0;34m)\u001b[0m\u001b[0;34m\u001b[0m\u001b[0m\n\u001b[0;32m---> 79\u001b[0;31m \u001b[0mnb_caractere_distinc\u001b[0m\u001b[0;34m,\u001b[0m\u001b[0mnb_caractere_moyen\u001b[0m \u001b[0;34m=\u001b[0m \u001b[0mcompterCaractere\u001b[0m\u001b[0;34m(\u001b[0m\u001b[0mdata\u001b[0m\u001b[0;34m)\u001b[0m\u001b[0;34m\u001b[0m\u001b[0m\n\u001b[0m\u001b[1;32m     80\u001b[0m \u001b[0;34m\u001b[0m\u001b[0m\n\u001b[1;32m     81\u001b[0m \u001b[0mdescrib\u001b[0m\u001b[0;34m(\u001b[0m\u001b[0;34m)\u001b[0m\u001b[0;34m\u001b[0m\u001b[0m\n",
      "\u001b[0;32m<ipython-input-46-88080a03f69b>\u001b[0m in \u001b[0;36mcompterCaractere\u001b[0;34m(data)\u001b[0m\n\u001b[1;32m     57\u001b[0m     \u001b[0mlist_car\u001b[0m \u001b[0;34m=\u001b[0m \u001b[0;34m[\u001b[0m\u001b[0;34m]\u001b[0m\u001b[0;34m\u001b[0m\u001b[0m\n\u001b[1;32m     58\u001b[0m     \u001b[0;32mfor\u001b[0m \u001b[0mkey\u001b[0m \u001b[0;32min\u001b[0m \u001b[0mdata\u001b[0m\u001b[0;34m:\u001b[0m\u001b[0;34m\u001b[0m\u001b[0m\n\u001b[0;32m---> 59\u001b[0;31m         \u001b[0;32mfor\u001b[0m \u001b[0mliste\u001b[0m \u001b[0;32min\u001b[0m \u001b[0mkey\u001b[0m\u001b[0;34m:\u001b[0m\u001b[0;34m\u001b[0m\u001b[0m\n\u001b[0m\u001b[1;32m     60\u001b[0m             \u001b[0;32mfor\u001b[0m \u001b[0mc\u001b[0m \u001b[0;32min\u001b[0m \u001b[0mliste\u001b[0m\u001b[0;34m:\u001b[0m\u001b[0;34m\u001b[0m\u001b[0m\n\u001b[1;32m     61\u001b[0m                 \u001b[0;32mif\u001b[0m \u001b[0mc\u001b[0m \u001b[0;32mnot\u001b[0m \u001b[0;32min\u001b[0m \u001b[0mlist_car\u001b[0m\u001b[0;34m:\u001b[0m\u001b[0;34m\u001b[0m\u001b[0m\n",
      "\u001b[0;31mTypeError\u001b[0m: 'int' object is not iterable"
     ]
    }
   ],
   "source": [
    "class Parse:\n",
    "    def __init__(self): pass\n",
    "    \n",
    "    \n",
    "    \n",
    "def infoTar(t):\n",
    "    for finfo in t.getmembers():\n",
    "        print('%s a une taille de %d octets' % (finfo.name, finfo.size), '')\n",
    "        if finfo.isdir():\n",
    "            print(' et est un répertoire')\n",
    "        elif finfo.isfile():\n",
    "            print(' et est un fichier normal')\n",
    "\n",
    "            \n",
    "def extractFile(t, name):\n",
    "    fichier = open(\"trainset.txt\",'w')\n",
    "    extr = t.extractfile(name)\n",
    "    for line in extr:\n",
    "        fichier.write(line)\n",
    "    fichier.close()    \n",
    "    extr.close()\n",
    "    t.close()\n",
    "\n",
    "\n",
    "def describ():\n",
    "    print \"Parsing ...\\nExtracting data ...\"\n",
    "    print \"Fichier : %s\" % fname\n",
    "    print \"I - Taille\"\n",
    "    print \"\\tNombre de phrases : %d\" % nb_phrases\n",
    "    print \"\\tNombre d'exemples d'aprentissages : %d\" % nb_exemples\n",
    "    print \"\\tNombre de caracteres moyen par phrases : %d\" % nb_caractere_moyen\n",
    "    print \"II - Vocabulaire\"\n",
    "    print \"\\tNombre de caractere dictincts : %d\" % nb_caractere_distinc    \n",
    "    print \"\\tNombre de mots dictincts : %d\" % nb_mot_disctinc\n",
    "    \n",
    "def parser(name):\n",
    "    fichier = open(name,'r')\n",
    "    tmp = {}\n",
    "    exemple = []\n",
    "    i = 0\n",
    "    k = 0    \n",
    "    for line in fichier:  \n",
    "        exemple.append(line)\n",
    "        i+=1\n",
    "        if \"?\" in line:\n",
    "            tmp[k] = []\n",
    "            for e in exemple:\n",
    "                tmp[k].append(e)\n",
    "            k+=1\n",
    "\n",
    "    return tmp,i,k\n",
    "    \n",
    "# def classer(): pass\n",
    "def compterCaractere(data):\n",
    "    i = 0\n",
    "    j = 0\n",
    "    list_car = []\n",
    "    for key in data:\n",
    "        for liste in key:\n",
    "            for c in liste:\n",
    "                if c not in list_car:\n",
    "                    list_car.append(c)\n",
    "                    \n",
    "    return len(list_car), 2001\n",
    "\n",
    "bAbitask = tar.open('tasks_1-20_v1-2.tar.gz', 'r')\n",
    "fname = \"trainset.txt\"\n",
    "\n",
    "data = {}\n",
    "nb_phrases = 0\n",
    "nb_exemples = 0\n",
    "nb_caractere_distinc = 0\n",
    "nb_caractere_moyen = 0\n",
    "nb_mot_disctinc = 0\n",
    "\n",
    "lire(bAbitask, \"tasks_1-20_v1-2/en/qa1_single-supporting-fact_train.txt\")\n",
    "\n",
    "data,nb_phrases,nb_exemples = parser(fname)\n",
    "nb_caractere_distinc,nb_caractere_moyen = compterCaractere(data)\n",
    "\n",
    "describ()\n",
    "\n",
    "\n"
   ]
  },
  {
   "cell_type": "code",
   "execution_count": null,
   "metadata": {
    "collapsed": true
   },
   "outputs": [],
   "source": []
  },
  {
   "cell_type": "code",
   "execution_count": null,
   "metadata": {
    "collapsed": true
   },
   "outputs": [],
   "source": []
  }
 ],
 "metadata": {
  "kernelspec": {
   "display_name": "Python 2",
   "language": "python",
   "name": "python2"
  },
  "language_info": {
   "codemirror_mode": {
    "name": "ipython",
    "version": 2
   },
   "file_extension": ".py",
   "mimetype": "text/x-python",
   "name": "python",
   "nbconvert_exporter": "python",
   "pygments_lexer": "ipython2",
   "version": "2.7.12"
  }
 },
 "nbformat": 4,
 "nbformat_minor": 0
}
