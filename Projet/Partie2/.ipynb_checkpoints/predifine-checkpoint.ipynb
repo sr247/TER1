{
 "cells": [
  {
   "cell_type": "code",
   "execution_count": 1,
   "metadata": {
    "collapsed": false
   },
   "outputs": [
    {
     "name": "stderr",
     "output_type": "stream",
     "text": [
      "Using Theano backend.\n"
     ]
    }
   ],
   "source": [
    "#! /usr/bin/python2.7\n",
    "# -*- coding: utf-8 -*-\n",
    "\n",
    "from keras.datasets import imdb\n",
    "import numpy as np\n",
    "from matplotlib import pyplot as plt\n",
    "from keras.models import Sequential\n",
    "from keras.layers import Dense, Activation\n",
    "\n",
    "import tarfile as tar"
   ]
  },
  {
   "cell_type": "code",
   "execution_count": 2,
   "metadata": {
    "collapsed": false
   },
   "outputs": [],
   "source": [
    "class Parse:\n",
    "    def __init__(self): pass\n",
    "        \n",
    "    \n",
    "def infoTar(t):\n",
    "    for finfo in t.getmembers():\n",
    "        print('%s a une taille de %d octets' % (finfo.name, finfo.size), '')\n",
    "        if finfo.isdir():\n",
    "            print(' et est un répertoire')\n",
    "        elif finfo.isfile():\n",
    "            print(' et est un fichier normal')\n",
    "\n",
    "            \n",
    "def extractFile(t, src, dest):\n",
    "    fichier = open(dest,'wb')\n",
    "    extr = t.extractfile(src)\n",
    "    # for line in extr:\n",
    "    # lines = extr.readline()\n",
    "    fichier.write(extr.read())\n",
    "    fichier.close()    \n",
    "    extr.close()    \n",
    "\n",
    "\n",
    "def describ():\n",
    "    print ( \"Parsing ...\\nExtracting data ...\")\n",
    "    print ( \"Fichier : %s\" % fname)\n",
    "    print ( \"I - Taille\")\n",
    "    print ( \"\\tNombre de phrases : %d\" % nb_phrases)\n",
    "    print ( \"\\tNombre d'exemples d'aprentissages : %d\" % nb_exemples)\n",
    "    print (\"\\tNombre de caracteres moyen par phrases : %d\" % nb_caractere_moyen)\n",
    "    print (\"II - Vocabulaire\")\n",
    "    print (\"\\tNombre de caractere dictincts totals : %d\" % nb_caractere_distinc) \n",
    "    print (\"\\tNombre de mots dictincts totals : %d\" % nb_mot_disctinc) \n",
    "    \n",
    "def parser(name):\n",
    "    fichier = open(name,'r')\n",
    "    tmp = {}\n",
    "    exemple = []\n",
    "    i = 0\n",
    "    k = 0    \n",
    "    for line in fichier:  \n",
    "        exemple.append(line)\n",
    "        i+=1\n",
    "        if \"?\" in line:\n",
    "            tmp[k] = []\n",
    "            for e in exemple:\n",
    "                tmp[k].append(e)\n",
    "            k+=1\n",
    "\n",
    "    return tmp,i,k\n",
    "    \n",
    "# def classer(): pass\n",
    "def compterCaractere(data):\n",
    "    nb_char = 0\n",
    "    nb_char_moy = []\n",
    "    list_car = []\n",
    "    list_mot = []\n",
    "    for key in data:\n",
    "        for liste in data[key]:\n",
    "            for e in liste.split(\" \"):\n",
    "                if e not in list_mot:\n",
    "                    list_mot.append(e)\n",
    "            for c in liste:\n",
    "                if c != '\\n':\n",
    "                    nb_char += 1\n",
    "                if c not in list_car:\n",
    "                    list_car.append(c)\n",
    "            nb_char_moy.append(nb_char)\n",
    "            nb_char = 0\n",
    "    for e in nb_char_moy:\n",
    "        nb_char += e\n",
    "    return len(list_car), nb_char/len(nb_char_moy), len(list_mot), list_mot\n",
    "\n",
    "def compareVoc(a,b):\n",
    "    Sa = set(a)\n",
    "    Sb = set(b)\n",
    "    \n",
    "    print(Sa)\n",
    "    print(Sb)\n",
    "        \n",
    "bAbitask = tar.open('tasks_1-20_v1-2.tar.gz', 'r')\n",
    "fname = \"trainset.txt\"\n",
    "\n",
    "\n",
    "dataTrain = {}\n",
    "dataTest = {}\n",
    "nb_phrases = 0\n",
    "nb_exemples = 0\n",
    "nb_caractere_distinc = 0\n",
    "nb_caractere_moyen = 0\n",
    "nb_mot_disctinc = 0\n",
    "\n",
    "\n",
    "\n",
    "\n"
   ]
  },
  {
   "cell_type": "code",
   "execution_count": 3,
   "metadata": {
    "collapsed": false
   },
   "outputs": [
    {
     "ename": "NameError",
     "evalue": "name 'data' is not defined",
     "output_type": "error",
     "traceback": [
      "\u001b[0;31m---------------------------------------------------------------------------\u001b[0m",
      "\u001b[0;31mNameError\u001b[0m                                 Traceback (most recent call last)",
      "\u001b[0;32m<ipython-input-3-0ace9b39ce0c>\u001b[0m in \u001b[0;36m<module>\u001b[0;34m()\u001b[0m\n\u001b[1;32m      1\u001b[0m \u001b[0mextractFile\u001b[0m\u001b[0;34m(\u001b[0m\u001b[0mbAbitask\u001b[0m\u001b[0;34m,\u001b[0m \u001b[0;34m\"tasks_1-20_v1-2/en/qa1_single-supporting-fact_train.txt\"\u001b[0m\u001b[0;34m,\u001b[0m \u001b[0mfname\u001b[0m\u001b[0;34m)\u001b[0m\u001b[0;34m\u001b[0m\u001b[0m\n\u001b[1;32m      2\u001b[0m \u001b[0mdataTrain\u001b[0m\u001b[0;34m,\u001b[0m\u001b[0mnb_phrases\u001b[0m\u001b[0;34m,\u001b[0m\u001b[0mnb_exemples\u001b[0m \u001b[0;34m=\u001b[0m \u001b[0mparser\u001b[0m\u001b[0;34m(\u001b[0m\u001b[0mfname\u001b[0m\u001b[0;34m)\u001b[0m\u001b[0;34m\u001b[0m\u001b[0m\n\u001b[0;32m----> 3\u001b[0;31m \u001b[0mnb_caractere_distinc\u001b[0m\u001b[0;34m,\u001b[0m\u001b[0mnb_caractere_moyen\u001b[0m\u001b[0;34m,\u001b[0m\u001b[0mnb_mot_disctinc\u001b[0m\u001b[0;34m,\u001b[0m\u001b[0mvocab_train\u001b[0m \u001b[0;34m=\u001b[0m \u001b[0mcompterCaractere\u001b[0m\u001b[0;34m(\u001b[0m\u001b[0mdata\u001b[0m\u001b[0;34m)\u001b[0m\u001b[0;34m\u001b[0m\u001b[0m\n\u001b[0m\u001b[1;32m      4\u001b[0m \u001b[0mdescrib\u001b[0m\u001b[0;34m(\u001b[0m\u001b[0;34m)\u001b[0m\u001b[0;34m\u001b[0m\u001b[0m\n\u001b[1;32m      5\u001b[0m \u001b[0;34m\u001b[0m\u001b[0m\n",
      "\u001b[0;31mNameError\u001b[0m: name 'data' is not defined"
     ]
    }
   ],
   "source": [
    "extractFile(bAbitask, \"tasks_1-20_v1-2/en/qa1_single-supporting-fact_train.txt\", fname)\n",
    "dataTrain,nb_phrases,nb_exemples = parser(fname)\n",
    "nb_caractere_distinc,nb_caractere_moyen,nb_mot_disctinc,vocab_train = compterCaractere(dataTrain)\n",
    "describ()\n",
    "\n",
    "fname = \"testset.txt\"\n",
    "\n",
    "extractFile(bAbitask, \"tasks_1-20_v1-2/en/qa1_single-supporting-fact_test.txt\", fname)\n",
    "dataTest,nb_phrases,nb_exemples = parser(fname)\n",
    "nb_caractere_distinc,nb_caractere_moyen,nb_mot_disctinc,vocab_test = compterCaractere(dataTest)\n",
    "describ()\n",
    "compareVoc(vocab_train,vocab_test)"
   ]
  },
  {
   "cell_type": "code",
   "execution_count": null,
   "metadata": {
    "collapsed": true
   },
   "outputs": [],
   "source": [
    "bAbitask.close()"
   ]
  }
 ],
 "metadata": {
  "kernelspec": {
   "display_name": "Python 3",
   "language": "python",
   "name": "python3"
  },
  "language_info": {
   "codemirror_mode": {
    "name": "ipython",
    "version": 3
   },
   "file_extension": ".py",
   "mimetype": "text/x-python",
   "name": "python",
   "nbconvert_exporter": "python",
   "pygments_lexer": "ipython3",
   "version": "3.6.0"
  }
 },
 "nbformat": 4,
 "nbformat_minor": 0
}
